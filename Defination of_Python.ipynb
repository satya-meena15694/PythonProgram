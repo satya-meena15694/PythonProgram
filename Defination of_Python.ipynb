{
  "nbformat": 4,
  "nbformat_minor": 0,
  "metadata": {
    "colab": {
      "provenance": []
    },
    "kernelspec": {
      "name": "python3",
      "display_name": "Python 3"
    },
    "language_info": {
      "name": "python"
    }
  },
  "cells": [
    {
      "cell_type": "code",
      "source": [],
      "metadata": {
        "id": "uKjrQCKdvUcz"
      },
      "execution_count": null,
      "outputs": []
    },
    {
      "cell_type": "markdown",
      "source": [
        "Python Promgram:\n",
        "\n",
        "Python is a general purpose, dynamically type, high level developed by **GUIDO VAN ROSSUM** in the year 1991 at CWI in Netherland.\n",
        "\n",
        "syntax: print('hello user!')\n",
        "\n",
        "Feature of Python:\n",
        " [Simple & easy to learn, Freeware & open soure, platform independent, Rich libary, Portable, Extensible, Interpreted]\n",
        "\n",
        "\n"
      ],
      "metadata": {
        "id": "tdB4JMb8vV89"
      }
    }
  ]
}