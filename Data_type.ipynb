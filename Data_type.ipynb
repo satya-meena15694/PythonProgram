{
  "nbformat": 4,
  "nbformat_minor": 0,
  "metadata": {
    "colab": {
      "provenance": []
    },
    "kernelspec": {
      "name": "python3",
      "display_name": "Python 3"
    },
    "language_info": {
      "name": "python"
    }
  },
  "cells": [
    {
      "cell_type": "markdown",
      "source": [
        "Data type in Python:\n",
        "\n",
        "1.   int\n",
        "2.   float\n",
        "3.   string\n",
        "4.   boolean\n",
        "\n",
        "\n"
      ],
      "metadata": {
        "id": "go3ER8XMT49J"
      }
    },
    {
      "cell_type": "code",
      "source": [
        "#example\n",
        "var1 = 10\n",
        "\n",
        "type(var1)"
      ],
      "metadata": {
        "colab": {
          "base_uri": "https://localhost:8080/"
        },
        "id": "lDjLIjLVVOZE",
        "outputId": "a557a3bc-270f-4119-be72-7839479be7f4"
      },
      "execution_count": null,
      "outputs": [
        {
          "output_type": "execute_result",
          "data": {
            "text/plain": [
              "int"
            ]
          },
          "metadata": {},
          "execution_count": 1
        }
      ]
    },
    {
      "cell_type": "markdown",
      "source": [
        "int: That is use store the number values"
      ],
      "metadata": {
        "id": "mbDLZUn7Uzkc"
      }
    },
    {
      "cell_type": "code",
      "source": [
        "#example\n",
        "var1 = 25.43\n",
        "\n",
        "type(var1)"
      ],
      "metadata": {
        "colab": {
          "base_uri": "https://localhost:8080/"
        },
        "id": "fU26sI38V-He",
        "outputId": "03daa280-c402-45ef-d3c0-bf247f8c4518"
      },
      "execution_count": null,
      "outputs": [
        {
          "output_type": "execute_result",
          "data": {
            "text/plain": [
              "float"
            ]
          },
          "metadata": {},
          "execution_count": 2
        }
      ]
    },
    {
      "cell_type": "markdown",
      "source": [
        "float: that is use store the float value."
      ],
      "metadata": {
        "id": "JH3noNO0Vw5R"
      }
    },
    {
      "cell_type": "code",
      "source": [
        "#example\n",
        "str =\"Hello world\"\n",
        "\n",
        "type(str)"
      ],
      "metadata": {
        "colab": {
          "base_uri": "https://localhost:8080/"
        },
        "id": "m9Hj-x-YWSL-",
        "outputId": "029365c5-d5fb-4acd-800c-20a4c393b591"
      },
      "execution_count": null,
      "outputs": [
        {
          "output_type": "execute_result",
          "data": {
            "text/plain": [
              "str"
            ]
          },
          "metadata": {},
          "execution_count": 3
        }
      ]
    },
    {
      "cell_type": "markdown",
      "source": [
        "string: that is store the string value."
      ],
      "metadata": {
        "id": "nbgZb1kAWpuf"
      }
    },
    {
      "cell_type": "code",
      "source": [
        "#example\n",
        "\n",
        "bool = True\n",
        "\n",
        "type(bool)"
      ],
      "metadata": {
        "colab": {
          "base_uri": "https://localhost:8080/"
        },
        "id": "BmlCk-VlWzlB",
        "outputId": "04ece81e-c7ec-49f8-c208-64f5c80cf45e"
      },
      "execution_count": null,
      "outputs": [
        {
          "output_type": "execute_result",
          "data": {
            "text/plain": [
              "bool"
            ]
          },
          "metadata": {},
          "execution_count": 4
        }
      ]
    },
    {
      "cell_type": "markdown",
      "source": [
        "boolean: that is store the boolean value."
      ],
      "metadata": {
        "id": "Y9BkxVM6XDaw"
      }
    },
    {
      "cell_type": "markdown",
      "source": [
        "More important Data type in Python:\n",
        "\n",
        "1. list\n",
        "2. tuple\n",
        "3. set\n",
        "4. dict\n",
        "\n"
      ],
      "metadata": {
        "id": "bXQaSjXKX7Za"
      }
    },
    {
      "cell_type": "code",
      "source": [],
      "metadata": {
        "id": "gMClrVMOYTGC"
      },
      "execution_count": null,
      "outputs": []
    },
    {
      "cell_type": "markdown",
      "source": [
        "**list**: lists are a fundamental data structure in python used to store ordered collections of items. list in python is **mutable** , meaning you can modify their contents after they are created.\n",
        "\n",
        "*   **List's functions and methods:**\n",
        "\n",
        "1. list(): This function is used to create a list from an iterable object (like a string, tuple, or dictionary).\n",
        "\n",
        "2. append(): This method adds an element to the end of the list.\n",
        "\n",
        "3. insert(index, element): This method insert an element at a  specified element from the lest.\n",
        "\n",
        "4. remove(elevent): This method remove the first occurrence of specified element from the list.\n",
        "\n",
        "5. pop(index): This method removes the elements at the given index from the list.\n",
        "\n",
        "1.   for loop: you can iterate though the elements of a list using a for loop.\n",
        "2.   len(list): This function return the length (number of elements) of the list.\n",
        "3. sorted(list): This function returns a new sorted list, leaving the original list unchanged.\n",
        "4.min(list): This function returns the smallest element in the list.\n",
        "5.max(list): This function returns the largest element in the list\n",
        "\n",
        "\n",
        "\n",
        "\n",
        "   \n",
        "\n",
        "\n"
      ],
      "metadata": {
        "id": "t6rbVzl8ZOb9"
      }
    },
    {
      "cell_type": "code",
      "source": [
        "#example of list\n",
        "\n",
        "fruits = [\"apple\",\"banana\",\"cherry\",\"mango\"]\n",
        "\n",
        "fruits\n",
        "\n"
      ],
      "metadata": {
        "id": "kWQJNgYqk27x",
        "colab": {
          "base_uri": "https://localhost:8080/"
        },
        "outputId": "7abc515b-a8e1-4d19-aa8e-f486c7d64cea"
      },
      "execution_count": null,
      "outputs": [
        {
          "output_type": "execute_result",
          "data": {
            "text/plain": [
              "['apple', 'banana', 'cherry', 'mango']"
            ]
          },
          "metadata": {},
          "execution_count": 1
        }
      ]
    },
    {
      "cell_type": "code",
      "source": [
        "#example of append function\n",
        "\n",
        "fruits.append(\"papaya\") # adds \"papaya\" to the end of the list\n",
        "\n",
        "print(fruits)"
      ],
      "metadata": {
        "colab": {
          "base_uri": "https://localhost:8080/"
        },
        "id": "Es32YLGepVhm",
        "outputId": "dfd85ad5-afef-411b-d2a3-381b6985b1ca"
      },
      "execution_count": null,
      "outputs": [
        {
          "output_type": "stream",
          "name": "stdout",
          "text": [
            "['apple', 'banana', 'cherry', 'mango', 'papaya']\n"
          ]
        }
      ]
    },
    {
      "cell_type": "code",
      "source": [
        "# example of insert function\n",
        "\n",
        "color = [\"red\",\"black\",\"yellow\"]\n",
        "\n",
        "color.insert(2,\"orange\")\n",
        "\n",
        "print(color)\n"
      ],
      "metadata": {
        "colab": {
          "base_uri": "https://localhost:8080/"
        },
        "id": "T7DXPXsXqEjK",
        "outputId": "c4c767bf-228f-42df-8cfb-605f0b6fbd60"
      },
      "execution_count": null,
      "outputs": [
        {
          "output_type": "stream",
          "name": "stdout",
          "text": [
            "['red', 'black', 'orange', 'yellow']\n"
          ]
        }
      ]
    },
    {
      "cell_type": "code",
      "source": [
        "# example of remove function\n",
        "\n",
        "color = [\"red\",\"black\",\"yellow\",\"orange\"]\n",
        "\n",
        "color.remove(\"black\")\n",
        "\n",
        "print(color)"
      ],
      "metadata": {
        "colab": {
          "base_uri": "https://localhost:8080/"
        },
        "id": "gMZ3R--7rStF",
        "outputId": "c0b0b633-9bc5-4f3a-fafb-ebed31723aeb"
      },
      "execution_count": null,
      "outputs": [
        {
          "output_type": "stream",
          "name": "stdout",
          "text": [
            "['red', 'yellow', 'orange']\n"
          ]
        }
      ]
    },
    {
      "cell_type": "code",
      "source": [
        "# example of len function\n",
        "\n",
        "name = \"satya narayan meena\"\n",
        "\n",
        "print(len(name))"
      ],
      "metadata": {
        "colab": {
          "base_uri": "https://localhost:8080/"
        },
        "id": "bAtdziLXs_ld",
        "outputId": "283801f9-8667-4e57-a3c3-e712b26910c0"
      },
      "execution_count": null,
      "outputs": [
        {
          "output_type": "stream",
          "name": "stdout",
          "text": [
            "19\n"
          ]
        }
      ]
    },
    {
      "cell_type": "markdown",
      "source": [
        "**Tuple**: Tuple in Python are ordered, immutable collections of elements. Unlike list, you cannot change the elements of a tuple after creation.\n",
        "\n",
        "* **Tuple's functions:**\n",
        "\n",
        "1. tuple() function: This function is used to create a tuple.\n",
        "\n",
        "\n",
        "\n",
        "\n",
        "\n"
      ],
      "metadata": {
        "id": "3jphaYR79sGE"
      }
    },
    {
      "cell_type": "code",
      "source": [
        "# example of tuple\n",
        "# creating a tuple with various data types\n",
        "my_tuple = (1,\"satya\",3.14)\n",
        "\n",
        "# creating a tuple from a list\n",
        "anthor_tuple = ([\"apple\",\"rahul\",2.56])\n",
        "\n",
        "# creating a empty tuple\n",
        "empty_tuple = ()\n",
        "\n",
        "print(my_tuple)\n",
        "print(anthor_tuple)\n",
        "print(empty_tuple)"
      ],
      "metadata": {
        "colab": {
          "base_uri": "https://localhost:8080/"
        },
        "id": "dqy7epf-6VVQ",
        "outputId": "6d579e68-78b8-4f19-cfb5-77b855aa8550"
      },
      "execution_count": null,
      "outputs": [
        {
          "output_type": "stream",
          "name": "stdout",
          "text": [
            "(1, 'satya', 3.14)\n",
            "['apple', 'rahul', 2.56]\n",
            "()\n"
          ]
        }
      ]
    },
    {
      "cell_type": "markdown",
      "source": [
        "* **+** operator : if we add two tuples when use + operator.\n",
        "\n"
      ],
      "metadata": {
        "id": "b51UF1eNj8Eu"
      }
    },
    {
      "cell_type": "code",
      "source": [
        "tuple1 = (1,2,3)\n",
        "tuple2 = (4,5,6)\n",
        "\n",
        "concted_tuple = tuple1 + tuple2\n",
        "print(concted_tuple)"
      ],
      "metadata": {
        "colab": {
          "base_uri": "https://localhost:8080/"
        },
        "id": "LfcnM7lfjtSG",
        "outputId": "55e98937-c364-47c1-915f-cbd31d317a8c"
      },
      "execution_count": null,
      "outputs": [
        {
          "output_type": "stream",
          "name": "stdout",
          "text": [
            "(1, 2, 3, 4, 5, 6)\n"
          ]
        }
      ]
    },
    {
      "cell_type": "markdown",
      "source": [
        "**set :** set is collections of unique elements. unlike list,they cannot contain duplicate.\n"
      ],
      "metadata": {
        "id": "ILlClf3clzLL"
      }
    },
    {
      "cell_type": "code",
      "source": [
        "# example of set function\n",
        "my_set = {1,\"satya\",2.32}\n",
        "\n",
        "print(my_set)"
      ],
      "metadata": {
        "colab": {
          "base_uri": "https://localhost:8080/"
        },
        "id": "CTC-LsfAnJz9",
        "outputId": "62d9b889-ecf7-4eee-b7b9-8193dbec2a63"
      },
      "execution_count": null,
      "outputs": [
        {
          "output_type": "stream",
          "name": "stdout",
          "text": [
            "{1, 2.32, 'satya'}\n"
          ]
        }
      ]
    },
    {
      "cell_type": "code",
      "source": [
        "# example of add method this method adds a new element to the set.\n",
        "\n",
        "add_set = {\"apple\",\"banana\"}\n",
        "\n",
        "add_set.add(\"orange\")\n",
        "\n",
        "print(add_set)"
      ],
      "metadata": {
        "colab": {
          "base_uri": "https://localhost:8080/"
        },
        "id": "frQdNisqorKY",
        "outputId": "9f1ce2f3-b239-4d0a-9820-c8571c860d45"
      },
      "execution_count": null,
      "outputs": [
        {
          "output_type": "stream",
          "name": "stdout",
          "text": [
            "{'orange', 'apple', 'banana'}\n"
          ]
        }
      ]
    },
    {
      "cell_type": "markdown",
      "source": [
        "**dict:** dictionaries are collections of key-value pairs. they are like minidatabase that store information using unique keys to access associated value."
      ],
      "metadata": {
        "id": "cJcobTM_uewq"
      }
    },
    {
      "cell_type": "code",
      "source": [
        "#example of dict\n",
        "my_type = {\"name\":\"satya\",\"address\":\"jaipur\",\"mobile\":9887012314}\n",
        "\n",
        "my_type"
      ],
      "metadata": {
        "colab": {
          "base_uri": "https://localhost:8080/"
        },
        "id": "roLUHnwEJxwD",
        "outputId": "7a7d1f3a-e4a2-4311-ee8b-3936a6906d44"
      },
      "execution_count": 7,
      "outputs": [
        {
          "output_type": "execute_result",
          "data": {
            "text/plain": [
              "{'name': 'satya', 'address': 'jaipur', 'mobile': 9887012314}"
            ]
          },
          "metadata": {},
          "execution_count": 7
        }
      ]
    }
  ]
}