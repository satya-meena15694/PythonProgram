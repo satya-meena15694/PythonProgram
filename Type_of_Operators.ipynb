{
  "nbformat": 4,
  "nbformat_minor": 0,
  "metadata": {
    "colab": {
      "provenance": []
    },
    "kernelspec": {
      "name": "python3",
      "display_name": "Python 3"
    },
    "language_info": {
      "name": "python"
    }
  },
  "cells": [
    {
      "cell_type": "markdown",
      "source": [
        "What is operator?\n",
        "Operator is nothing but symbols that perform certain task.\n",
        "\n",
        "Various set of Operators in python:\n",
        "1.Arithmetic Operator (+,-,*,/,//,**)\n",
        "2.Relation Operator (<,<=,>,>=,==,!=)\n",
        "3.Logical Operator (and,or,not)\n",
        "4.Assignment Operator (=)\n",
        "5.Special Operator:\n",
        "(a).Identity Operator (is,is not)\n",
        "(b).Membership Operator (in,not in)\n"
      ],
      "metadata": {
        "id": "nCk7WXUb8EFC"
      }
    },
    {
      "cell_type": "code",
      "source": [
        "a = 13\n",
        "b = 2\n",
        "\n",
        "print(a+b) # addition\n",
        "print(a-b) # subtraction\n",
        "print(a*b) # multiplication\n",
        "print(a/b) # division\n",
        "print(a//b) # integer division\n",
        "print(a**b) # exponentiation"
      ],
      "metadata": {
        "colab": {
          "base_uri": "https://localhost:8080/"
        },
        "id": "C4QI6rOt-_La",
        "outputId": "c995669e-ce47-41c4-e722-c31b18581d2a"
      },
      "execution_count": 7,
      "outputs": [
        {
          "output_type": "stream",
          "name": "stdout",
          "text": [
            "15\n",
            "11\n",
            "26\n",
            "6.5\n",
            "6\n",
            "169\n"
          ]
        }
      ]
    },
    {
      "cell_type": "code",
      "source": [
        "a = 15\n",
        "b = 5\n",
        "\n",
        "print(a<b) # less than\n",
        "print(a>b) # greater than\n",
        "print(a<=b) # less than and equal to\n",
        "print(a>=b) # greater than and equal to\n",
        "print(a==b) # equal to\n",
        "print(a!=b) # not equal to"
      ],
      "metadata": {
        "colab": {
          "base_uri": "https://localhost:8080/"
        },
        "id": "AsKE83BoAO34",
        "outputId": "90e5735a-cdbc-4074-9aad-24e32af6717a"
      },
      "execution_count": 8,
      "outputs": [
        {
          "output_type": "stream",
          "name": "stdout",
          "text": [
            "False\n",
            "True\n",
            "False\n",
            "True\n",
            "False\n",
            "True\n"
          ]
        }
      ]
    }
  ]
}