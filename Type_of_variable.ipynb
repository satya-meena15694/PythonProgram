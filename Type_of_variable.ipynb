{
  "nbformat": 4,
  "nbformat_minor": 0,
  "metadata": {
    "colab": {
      "provenance": []
    },
    "kernelspec": {
      "name": "python3",
      "display_name": "Python 3"
    },
    "language_info": {
      "name": "python"
    }
  },
  "cells": [
    {
      "cell_type": "code",
      "source": [
        "a = 10\n",
        "b = \"Hello world\"\n",
        "\n",
        "  # a and b are variables\n",
        "\n",
        "print(a)\n",
        "print(type(a))\n",
        "print(type(b))"
      ],
      "metadata": {
        "colab": {
          "base_uri": "https://localhost:8080/"
        },
        "id": "52kRSnMG1QUl",
        "outputId": "c6ff1995-3b5a-4682-e724-f5e5d9b4bff1"
      },
      "execution_count": 2,
      "outputs": [
        {
          "output_type": "stream",
          "name": "stdout",
          "text": [
            "10\n",
            "<class 'int'>\n",
            "<class 'str'>\n"
          ]
        }
      ]
    },
    {
      "cell_type": "markdown",
      "source": [
        "What is Variable? Variable is the name of memory location where we can store different type of values.\n",
        "\n",
        "type(): It returne the data type of the given value."
      ],
      "metadata": {
        "id": "Mx38Msw45438"
      }
    },
    {
      "cell_type": "code",
      "source": [
        "a = 10\n",
        "print(a)\n",
        "print(type(a))\n",
        "\n",
        "a = 23.5\n",
        "print(a)\n",
        "print(type(a))\n",
        "\n",
        "a = \"satya\"\n",
        "print(a)\n",
        "print(type(a))\n",
        "\n",
        "a = 12+5J\n",
        "print(a)\n",
        "print(type(a))\n",
        "\n",
        "a = True\n",
        "print(a)\n",
        "print(type(a))"
      ],
      "metadata": {
        "colab": {
          "base_uri": "https://localhost:8080/"
        },
        "id": "o70Qll9j46tt",
        "outputId": "aba54b06-7fa4-463e-968a-be04d78444c1"
      },
      "execution_count": 3,
      "outputs": [
        {
          "output_type": "stream",
          "name": "stdout",
          "text": [
            "10\n",
            "<class 'int'>\n",
            "23.5\n",
            "<class 'float'>\n",
            "satya\n",
            "<class 'str'>\n",
            "(12+5j)\n",
            "<class 'complex'>\n",
            "True\n",
            "<class 'bool'>\n"
          ]
        }
      ]
    },
    {
      "cell_type": "markdown",
      "source": [
        "All type of Variables:\n",
        "-int\n",
        "-float\n",
        "-string\n",
        "-complex\n",
        "-boolean"
      ],
      "metadata": {
        "id": "5K7PNXs-10cO"
      }
    }
  ]
}